{
 "cells": [
  {
   "cell_type": "markdown",
   "metadata": {},
   "source": [
    "Q1. When to Use for loop and while loop\n",
    "\n",
    "for loop: Use a for loop when you know beforehand the exact number of times you need to iterate through a sequence of items. It's generally more concise and efficient for predetermined iterations.\n"
   ]
  },
  {
   "cell_type": "code",
   "execution_count": 1,
   "metadata": {},
   "outputs": [
    {
     "name": "stdout",
     "output_type": "stream",
     "text": [
      "1\n",
      "2\n",
      "3\n",
      "4\n",
      "5\n"
     ]
    }
   ],
   "source": [
    "#while loop\n",
    "number = 1\n",
    "while number <= 5:\n",
    "    print(number)\n",
    "    number += 1"
   ]
  },
  {
   "cell_type": "code",
   "execution_count": 2,
   "metadata": {},
   "outputs": [
    {
     "name": "stdout",
     "output_type": "stream",
     "text": [
      "apple\n",
      "banana\n",
      "cherry\n"
     ]
    }
   ],
   "source": [
    "# for loop\n",
    "fruits = [\"apple\", \"banana\", \"cherry\"]\n",
    "for fruit in fruits:\n",
    "    print(fruit)"
   ]
  },
  {
   "cell_type": "markdown",
   "metadata": {},
   "source": [
    "Q2. Sum and Product of First 10 Natural Numbers"
   ]
  },
  {
   "cell_type": "code",
   "execution_count": 3,
   "metadata": {},
   "outputs": [
    {
     "name": "stdout",
     "output_type": "stream",
     "text": [
      "Sum: 55\n",
      "Product: 3628800\n"
     ]
    }
   ],
   "source": [
    "#Using for loop:\n",
    "sum = 0\n",
    "product = 1\n",
    "for num in range(1, 11):\n",
    "    sum += num\n",
    "    product *= num\n",
    "\n",
    "print(\"Sum:\", sum)\n",
    "print(\"Product:\", product)"
   ]
  },
  {
   "cell_type": "code",
   "execution_count": 4,
   "metadata": {},
   "outputs": [
    {
     "name": "stdout",
     "output_type": "stream",
     "text": [
      "Sum: 110\n",
      "Product: 3628800\n"
     ]
    }
   ],
   "source": [
    "#Using while loop:sum = 0\n",
    "product = 1\n",
    "num = 1\n",
    "while num <= 10:\n",
    "    sum += num\n",
    "    product *= num\n",
    "    num += 1\n",
    "\n",
    "print(\"Sum:\", sum)\n",
    "print(\"Product:\", product)"
   ]
  },
  {
   "cell_type": "markdown",
   "metadata": {},
   "source": [
    "Q3. Electricity Bill Calculation\n"
   ]
  },
  {
   "cell_type": "code",
   "execution_count": 5,
   "metadata": {},
   "outputs": [],
   "source": [
    "units = int(input(\"Enter units consumed: \"))\n",
    "\n",
    "if units <= 100:\n",
    "  bill = units * 4.5\n",
    "elif units <= 200:\n",
    "  bill = 100 * 4.5 + (units - 100) * 6\n",
    "elif units <= 300:\n",
    "  bill = 100 * 4.5 + 100 * 6 + (units - 200) * 10\n",
    "else:\n",
    "  bill = 100 * 4.5 + 100 * 6 + 100 * 10 + (units - 300) * 20\n",
    "\n",
    "print(\"Electricity bill:\", bill)\n"
   ]
  },
  {
   "cell_type": "markdown",
   "metadata": {},
   "source": [
    "Q4. Cube of Numbers Divisible by 4 or 5"
   ]
  },
  {
   "cell_type": "code",
   "execution_count": null,
   "metadata": {},
   "outputs": [],
   "source": [
    "numbers = list(range(1, 101))  # Create a list from 1 to 100\n",
    "cubes_divisible_by_4_or_5 = []\n",
    "\n",
    "# Using for loop\n",
    "for num in numbers:\n",
    "    cube = num**3\n",
    "    if cube % 4 == 0 or cube % 5 == 0:\n",
    "        cubes_divisible_by_4_or_5.append(num)\n",
    "\n",
    "print(\"Numbers with cubes divisible by 4 or 5 (using for loop):\", cubes_divisible_by_4_or_5)\n",
    "\n",
    "# Using while loop\n",
    "cubes_divisible_by_4_or_5 = []\n",
    "i = 0\n",
    "while i < len(numbers):\n",
    "    cube = numbers[i]**3\n",
    "    if cube % 4 == 0 or cube % 5 == 0:\n",
    "        cubes_divisible_by_4_or_5.append(numbers[i])\n",
    "    i += 1\n",
    "\n",
    "print(\"Numbers with cubes divisible by 4 or 5 (using while loop):\", cubes_divisible_by_4_or_5)\n"
   ]
  },
  {
   "cell_type": "markdown",
   "metadata": {},
   "source": [
    "Q5. Count Vowels in a String"
   ]
  },
  {
   "cell_type": "code",
   "execution_count": null,
   "metadata": {},
   "outputs": [],
   "source": [
    "string = \"I want to become a data scientist\"\n",
    "vowels = \"aeiouAEIOU\"\n",
    "vowel_count = 0"
   ]
  }
 ],
 "metadata": {
  "kernelspec": {
   "display_name": "Python 3",
   "language": "python",
   "name": "python3"
  },
  "language_info": {
   "codemirror_mode": {
    "name": "ipython",
    "version": 3
   },
   "file_extension": ".py",
   "mimetype": "text/x-python",
   "name": "python",
   "nbconvert_exporter": "python",
   "pygments_lexer": "ipython3",
   "version": "3.12.2"
  }
 },
 "nbformat": 4,
 "nbformat_minor": 2
}
